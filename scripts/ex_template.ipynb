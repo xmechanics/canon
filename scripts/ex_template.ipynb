{
 "cells": [
  {
   "cell_type": "code",
   "execution_count": null,
   "metadata": {},
   "outputs": [
    {
     "name": "stderr",
     "output_type": "stream",
     "text": [
      "2025-04-28 16:38:04.708250: E external/local_xla/xla/stream_executor/cuda/cuda_fft.cc:485] Unable to register cuFFT factory: Attempting to register factory for plugin cuFFT when one has already been registered\n",
      "2025-04-28 16:38:04.721390: E external/local_xla/xla/stream_executor/cuda/cuda_dnn.cc:8454] Unable to register cuDNN factory: Attempting to register factory for plugin cuDNN when one has already been registered\n",
      "2025-04-28 16:38:04.725170: E external/local_xla/xla/stream_executor/cuda/cuda_blas.cc:1452] Unable to register cuBLAS factory: Attempting to register factory for plugin cuBLAS when one has already been registered\n",
      "2025-04-28 16:38:04.735832: I tensorflow/core/platform/cpu_feature_guard.cc:210] This TensorFlow binary is optimized to use available CPU instructions in performance-critical operations.\n",
      "To enable the following instructions: SSE4.1 SSE4.2 AVX AVX2 FMA, in other operations, rebuild TensorFlow with the appropriate compiler flags.\n",
      "2025-04-28 16:38:05,663 [MainThread] DEBUG tensorflow:34 - Falling back to TensorFlow client; we recommended you install the Cloud TPU client directly with pip install cloud-tpu-client.\n",
      "2025-04-28 16:38:06,366 [MainThread] INFO canon.autoencode.report:13 - ――――――――――――――――――――――――――――――――――――――――――――――――――――――――――――――――――――――――\n",
      "2025-04-28 16:38:06,366 [MainThread] INFO canon.autoencode.report:14 - Keras backend       : tensorflow\n",
      "2025-04-28 16:38:06,367 [MainThread] INFO canon.autoencode.report:30 - TensorFlow version  : 2.17.0\n",
      "WARNING: All log messages before absl::InitializeLog() is called are written to STDERR\n",
      "I0000 00:00:1745883486.432829  209428 cuda_executor.cc:1001] could not open file to read NUMA node: /sys/bus/pci/devices/0000:01:00.0/numa_node\n",
      "Your kernel may have been built without NUMA support.\n",
      "I0000 00:00:1745883486.478499  209428 cuda_executor.cc:1001] could not open file to read NUMA node: /sys/bus/pci/devices/0000:01:00.0/numa_node\n",
      "Your kernel may have been built without NUMA support.\n",
      "I0000 00:00:1745883486.478580  209428 cuda_executor.cc:1001] could not open file to read NUMA node: /sys/bus/pci/devices/0000:01:00.0/numa_node\n",
      "Your kernel may have been built without NUMA support.\n",
      "2025-04-28 16:38:06,479 [MainThread] INFO canon.autoencode.report:32 - CUDA built‑with     : True\n",
      "2025-04-28 16:38:06,480 [MainThread] INFO canon.autoencode.report:33 - Visible GPUs        : 1\n",
      "2025-04-28 16:38:06,481 [MainThread] INFO canon.autoencode.report:35 -   • PhysicalDevice(name='/physical_device:GPU:0', device_type='GPU')\n",
      "2025-04-28 16:38:06,481 [MainThread] INFO canon.autoencode.report:40 - ――――――――――――――――――――――――――――――――――――――――――――――――――――――――――――――――――――――――\n"
     ]
    }
   ],
   "source": [
    "%matplotlib inline\n",
    "import os\n",
    "import sys\n",
    "sys.path.append(\"..\")\n",
    "import time\n",
    "import numpy as np\n",
    "import h5py\n",
    "\n",
    "np.random.seed(4)\n",
    "\n",
    "import matplotlib.pyplot as plt\n",
    "from matplotlib import rcParams\n",
    "\n",
    "rcParams['font.size'] = 10\n",
    "rcParams['font.family'] = 'serif'\n",
    "rcParams['font.sans-serif'] = ['Times New Roman']\n",
    "\n",
    "from sklearn.decomposition import PCA\n",
    "\n",
    "from joblib import Parallel, delayed\n",
    "from skimage.io import imread\n",
    "\n",
    "from canon.common.init import init_logging\n",
    "init_logging()\n",
    "\n",
    "from canon.autoencode.report import backend_report\n",
    "backend_report()\n",
    "\n",
    "from canon.pattern.model import GMModel, KMeansModel, BGMModel, MeanShiftModel\n",
    "from canon.seq.seqreader import SeqReader\n",
    "from canon.pattern.labeler import SeqLabeler\n",
    "from canon.pattern import LatentExtractor\n",
    "from canon.util import split_workload\n",
    "from canon.autoencode.report import is_using_gpu\n",
    "\n",
    "PARALLELISM = 1 if is_using_gpu() else -1\n",
    "\n",
    "def read_seq(seq, key=\"orsnr___\"):\n",
    "    seqfile = os.path.join(\"seq\", seq+\".SEQ\")\n",
    "    reader = SeqReader(seqfile)    \n",
    "    Z = reader.get_Zmap(key, thres=0)[0]\n",
    "    return Z[::-1, :]\n",
    "\n",
    "def fill_features(features, img_shape):\n",
    "    num_points = np.prod(img_shape)\n",
    "    if len(features) != num_points:\n",
    "        print(\"Filling %d features to %d data points\" % (len(features), num_points))\n",
    "        features2 = np.zeros((np.prod(img_shape), features.shape[1] - 1))\n",
    "        features2[features[:, 0].astype('int') - 1] = features[:, 1:]\n",
    "        return features2\n",
    "    else:\n",
    "        return features[:, 1:]\n",
    "    \n",
    "def xy_to_idx(x, y, img_shape):\n",
    "    return y * img_shape[1] + x\n",
    "\n",
    "def idx_to_xy(idx, img_shape, flip_vertical=True):\n",
    "    x = int(idx / img_shape[1])\n",
    "    y = idx % img_shape[1]\n",
    "    if flip_vertical:\n",
    "        x = img_shape[0] - x - 1\n",
    "    return y, x\n",
    "\n",
    "def process_img(img_files, model_name):\n",
    "    extractor = LatentExtractor(model_name)\n",
    "    img_data = np.array([imread(f) for f in img_files])\n",
    "    img_idx = np.array([[int(f[-9:-4])] for f in img_files])\n",
    "    codes = extractor.features(img_data)\n",
    "    return np.hstack([img_idx, codes])\n",
    "\n",
    "def extract_features(jpg_dir, model_name):\n",
    "    dir_path = os.path.join(\"img\", jpg_dir)\n",
    "    filenames = [os.path.join(dir_path, filename) for filename in os.listdir(dir_path)\n",
    "                 if (not filename[0] == '.') and filename[-4:] == \".jpg\"]\n",
    "    print('Found %d files in the directory %s.' % (len(filenames), dir_path))\n",
    "\n",
    "    if PARALLELISM == 1:\n",
    "        data = process_img(filenames, model_name)\n",
    "        data = data[data[:,0].argsort()]\n",
    "    else:\n",
    "        fn_grps = split_workload(filenames, 64)\n",
    "        with Parallel(n_jobs=PARALLELISM, verbose=1) as parallel:\n",
    "            data = parallel(delayed(process_img)(grp, model_name) for grp in fn_grps)\n",
    "            data = np.vstack(data)\n",
    "    data = data[data[:,0].argsort()]\n",
    "    print(\"Loaded a data of shape {}\".format(data.shape))\n",
    "    \n",
    "    return data"
   ]
  },
  {
   "cell_type": "markdown",
   "metadata": {},
   "source": [
    "## Feature Extraction"
   ]
  },
  {
   "cell_type": "code",
   "execution_count": 2,
   "metadata": {},
   "outputs": [
    {
     "name": "stdout",
     "output_type": "stream",
     "text": [
      "Extracting features from Au30 using resnet50_256 ...\n",
      "Found 2000 files in the directory img/Au30.\n"
     ]
    },
    {
     "name": "stderr",
     "output_type": "stream",
     "text": [
      "I0000 00:00:1745883488.459753  209428 cuda_executor.cc:1001] could not open file to read NUMA node: /sys/bus/pci/devices/0000:01:00.0/numa_node\n",
      "Your kernel may have been built without NUMA support.\n",
      "I0000 00:00:1745883488.459944  209428 cuda_executor.cc:1001] could not open file to read NUMA node: /sys/bus/pci/devices/0000:01:00.0/numa_node\n",
      "Your kernel may have been built without NUMA support.\n",
      "I0000 00:00:1745883488.460002  209428 cuda_executor.cc:1001] could not open file to read NUMA node: /sys/bus/pci/devices/0000:01:00.0/numa_node\n",
      "Your kernel may have been built without NUMA support.\n",
      "I0000 00:00:1745883488.611644  209428 cuda_executor.cc:1001] could not open file to read NUMA node: /sys/bus/pci/devices/0000:01:00.0/numa_node\n",
      "Your kernel may have been built without NUMA support.\n",
      "I0000 00:00:1745883488.611784  209428 cuda_executor.cc:1001] could not open file to read NUMA node: /sys/bus/pci/devices/0000:01:00.0/numa_node\n",
      "Your kernel may have been built without NUMA support.\n",
      "2025-04-28 16:38:08.611797: I tensorflow/core/common_runtime/gpu/gpu_device.cc:2112] Could not identify NUMA node of platform GPU id 0, defaulting to 0.  Your kernel may not have been built with NUMA support.\n",
      "I0000 00:00:1745883488.611909  209428 cuda_executor.cc:1001] could not open file to read NUMA node: /sys/bus/pci/devices/0000:01:00.0/numa_node\n",
      "Your kernel may have been built without NUMA support.\n",
      "2025-04-28 16:38:08.611939: I tensorflow/core/common_runtime/gpu/gpu_device.cc:2021] Created device /job:localhost/replica:0/task:0/device:GPU:0 with 13689 MB memory:  -> device: 0, name: NVIDIA GeForce RTX 4060 Ti, pci bus id: 0000:01:00.0, compute capability: 8.9\n",
      "2025-04-28 16:38:11,535 [MainThread] INFO canon.pattern.latent_extractor:26 - Loaded an encoder with 256 features\n"
     ]
    },
    {
     "name": "stdout",
     "output_type": "stream",
     "text": [
      "[<InputLayer name=ae_input, built=True>, <Concatenate name=to_rgb, built=True>, <ZeroPadding2D name=conv1_pad, built=True>, <Conv2D name=conv1_conv, built=True>, <ZeroPadding2D name=pool1_pad, built=True>, <MaxPooling2D name=pool1_pool, built=True>, <BatchNormalization name=conv2_block1_preact_bn, built=True>, <Activation name=conv2_block1_preact_relu, built=True>, <Conv2D name=conv2_block1_1_conv, built=True>, <BatchNormalization name=conv2_block1_1_bn, built=True>, <Activation name=conv2_block1_1_relu, built=True>, <ZeroPadding2D name=conv2_block1_2_pad, built=True>, <Conv2D name=conv2_block1_2_conv, built=True>, <BatchNormalization name=conv2_block1_2_bn, built=True>, <Activation name=conv2_block1_2_relu, built=True>, <Conv2D name=conv2_block1_0_conv, built=True>, <Conv2D name=conv2_block1_3_conv, built=True>, <Add name=conv2_block1_out, built=True>, <BatchNormalization name=conv2_block2_preact_bn, built=True>, <Activation name=conv2_block2_preact_relu, built=True>, <Conv2D name=conv2_block2_1_conv, built=True>, <BatchNormalization name=conv2_block2_1_bn, built=True>, <Activation name=conv2_block2_1_relu, built=True>, <ZeroPadding2D name=conv2_block2_2_pad, built=True>, <Conv2D name=conv2_block2_2_conv, built=True>, <BatchNormalization name=conv2_block2_2_bn, built=True>, <Activation name=conv2_block2_2_relu, built=True>, <Conv2D name=conv2_block2_3_conv, built=True>, <Add name=conv2_block2_out, built=True>, <BatchNormalization name=conv2_block3_preact_bn, built=True>, <Activation name=conv2_block3_preact_relu, built=True>, <Conv2D name=conv2_block3_1_conv, built=True>, <BatchNormalization name=conv2_block3_1_bn, built=True>, <Activation name=conv2_block3_1_relu, built=True>, <ZeroPadding2D name=conv2_block3_2_pad, built=True>, <Conv2D name=conv2_block3_2_conv, built=True>, <BatchNormalization name=conv2_block3_2_bn, built=True>, <Activation name=conv2_block3_2_relu, built=True>, <MaxPooling2D name=max_pooling2d, built=True>, <Conv2D name=conv2_block3_3_conv, built=True>, <Add name=conv2_block3_out, built=True>, <BatchNormalization name=conv3_block1_preact_bn, built=True>, <Activation name=conv3_block1_preact_relu, built=True>, <Conv2D name=conv3_block1_1_conv, built=True>, <BatchNormalization name=conv3_block1_1_bn, built=True>, <Activation name=conv3_block1_1_relu, built=True>, <ZeroPadding2D name=conv3_block1_2_pad, built=True>, <Conv2D name=conv3_block1_2_conv, built=True>, <BatchNormalization name=conv3_block1_2_bn, built=True>, <Activation name=conv3_block1_2_relu, built=True>, <Conv2D name=conv3_block1_0_conv, built=True>, <Conv2D name=conv3_block1_3_conv, built=True>, <Add name=conv3_block1_out, built=True>, <BatchNormalization name=conv3_block2_preact_bn, built=True>, <Activation name=conv3_block2_preact_relu, built=True>, <Conv2D name=conv3_block2_1_conv, built=True>, <BatchNormalization name=conv3_block2_1_bn, built=True>, <Activation name=conv3_block2_1_relu, built=True>, <ZeroPadding2D name=conv3_block2_2_pad, built=True>, <Conv2D name=conv3_block2_2_conv, built=True>, <BatchNormalization name=conv3_block2_2_bn, built=True>, <Activation name=conv3_block2_2_relu, built=True>, <Conv2D name=conv3_block2_3_conv, built=True>, <Add name=conv3_block2_out, built=True>, <BatchNormalization name=conv3_block3_preact_bn, built=True>, <Activation name=conv3_block3_preact_relu, built=True>, <Conv2D name=conv3_block3_1_conv, built=True>, <BatchNormalization name=conv3_block3_1_bn, built=True>, <Activation name=conv3_block3_1_relu, built=True>, <ZeroPadding2D name=conv3_block3_2_pad, built=True>, <Conv2D name=conv3_block3_2_conv, built=True>, <BatchNormalization name=conv3_block3_2_bn, built=True>, <Activation name=conv3_block3_2_relu, built=True>, <Conv2D name=conv3_block3_3_conv, built=True>, <Add name=conv3_block3_out, built=True>, <BatchNormalization name=conv3_block4_preact_bn, built=True>, <Activation name=conv3_block4_preact_relu, built=True>, <Conv2D name=conv3_block4_1_conv, built=True>, <BatchNormalization name=conv3_block4_1_bn, built=True>, <Activation name=conv3_block4_1_relu, built=True>, <ZeroPadding2D name=conv3_block4_2_pad, built=True>, <Conv2D name=conv3_block4_2_conv, built=True>, <BatchNormalization name=conv3_block4_2_bn, built=True>, <Activation name=conv3_block4_2_relu, built=True>, <MaxPooling2D name=max_pooling2d_1, built=True>, <Conv2D name=conv3_block4_3_conv, built=True>, <Add name=conv3_block4_out, built=True>, <BatchNormalization name=conv4_block1_preact_bn, built=True>, <Activation name=conv4_block1_preact_relu, built=True>, <Conv2D name=conv4_block1_1_conv, built=True>, <BatchNormalization name=conv4_block1_1_bn, built=True>, <Activation name=conv4_block1_1_relu, built=True>, <ZeroPadding2D name=conv4_block1_2_pad, built=True>, <Conv2D name=conv4_block1_2_conv, built=True>, <BatchNormalization name=conv4_block1_2_bn, built=True>, <Activation name=conv4_block1_2_relu, built=True>, <Conv2D name=conv4_block1_0_conv, built=True>, <Conv2D name=conv4_block1_3_conv, built=True>, <Add name=conv4_block1_out, built=True>, <BatchNormalization name=conv4_block2_preact_bn, built=True>, <Activation name=conv4_block2_preact_relu, built=True>, <Conv2D name=conv4_block2_1_conv, built=True>, <BatchNormalization name=conv4_block2_1_bn, built=True>, <Activation name=conv4_block2_1_relu, built=True>, <ZeroPadding2D name=conv4_block2_2_pad, built=True>, <Conv2D name=conv4_block2_2_conv, built=True>, <BatchNormalization name=conv4_block2_2_bn, built=True>, <Activation name=conv4_block2_2_relu, built=True>, <Conv2D name=conv4_block2_3_conv, built=True>, <Add name=conv4_block2_out, built=True>, <BatchNormalization name=conv4_block3_preact_bn, built=True>, <Activation name=conv4_block3_preact_relu, built=True>, <Conv2D name=conv4_block3_1_conv, built=True>, <BatchNormalization name=conv4_block3_1_bn, built=True>, <Activation name=conv4_block3_1_relu, built=True>, <ZeroPadding2D name=conv4_block3_2_pad, built=True>, <Conv2D name=conv4_block3_2_conv, built=True>, <BatchNormalization name=conv4_block3_2_bn, built=True>, <Activation name=conv4_block3_2_relu, built=True>, <Conv2D name=conv4_block3_3_conv, built=True>, <Add name=conv4_block3_out, built=True>, <BatchNormalization name=conv4_block4_preact_bn, built=True>, <Activation name=conv4_block4_preact_relu, built=True>, <Conv2D name=conv4_block4_1_conv, built=True>, <BatchNormalization name=conv4_block4_1_bn, built=True>, <Activation name=conv4_block4_1_relu, built=True>, <ZeroPadding2D name=conv4_block4_2_pad, built=True>, <Conv2D name=conv4_block4_2_conv, built=True>, <BatchNormalization name=conv4_block4_2_bn, built=True>, <Activation name=conv4_block4_2_relu, built=True>, <Conv2D name=conv4_block4_3_conv, built=True>, <Add name=conv4_block4_out, built=True>, <BatchNormalization name=conv4_block5_preact_bn, built=True>, <Activation name=conv4_block5_preact_relu, built=True>, <Conv2D name=conv4_block5_1_conv, built=True>, <BatchNormalization name=conv4_block5_1_bn, built=True>, <Activation name=conv4_block5_1_relu, built=True>, <ZeroPadding2D name=conv4_block5_2_pad, built=True>, <Conv2D name=conv4_block5_2_conv, built=True>, <BatchNormalization name=conv4_block5_2_bn, built=True>, <Activation name=conv4_block5_2_relu, built=True>, <Conv2D name=conv4_block5_3_conv, built=True>, <Add name=conv4_block5_out, built=True>, <BatchNormalization name=conv4_block6_preact_bn, built=True>, <Activation name=conv4_block6_preact_relu, built=True>, <Conv2D name=conv4_block6_1_conv, built=True>, <BatchNormalization name=conv4_block6_1_bn, built=True>, <Activation name=conv4_block6_1_relu, built=True>, <ZeroPadding2D name=conv4_block6_2_pad, built=True>, <Conv2D name=conv4_block6_2_conv, built=True>, <BatchNormalization name=conv4_block6_2_bn, built=True>, <Activation name=conv4_block6_2_relu, built=True>, <MaxPooling2D name=max_pooling2d_2, built=True>, <Conv2D name=conv4_block6_3_conv, built=True>, <Add name=conv4_block6_out, built=True>, <BatchNormalization name=conv5_block1_preact_bn, built=True>, <Activation name=conv5_block1_preact_relu, built=True>, <Conv2D name=conv5_block1_1_conv, built=True>, <BatchNormalization name=conv5_block1_1_bn, built=True>, <Activation name=conv5_block1_1_relu, built=True>, <ZeroPadding2D name=conv5_block1_2_pad, built=True>, <Conv2D name=conv5_block1_2_conv, built=True>, <BatchNormalization name=conv5_block1_2_bn, built=True>, <Activation name=conv5_block1_2_relu, built=True>, <Conv2D name=conv5_block1_0_conv, built=True>, <Conv2D name=conv5_block1_3_conv, built=True>, <Add name=conv5_block1_out, built=True>, <BatchNormalization name=conv5_block2_preact_bn, built=True>, <Activation name=conv5_block2_preact_relu, built=True>, <Conv2D name=conv5_block2_1_conv, built=True>, <BatchNormalization name=conv5_block2_1_bn, built=True>, <Activation name=conv5_block2_1_relu, built=True>, <ZeroPadding2D name=conv5_block2_2_pad, built=True>, <Conv2D name=conv5_block2_2_conv, built=True>, <BatchNormalization name=conv5_block2_2_bn, built=True>, <Activation name=conv5_block2_2_relu, built=True>, <Conv2D name=conv5_block2_3_conv, built=True>, <Add name=conv5_block2_out, built=True>, <BatchNormalization name=conv5_block3_preact_bn, built=True>, <Activation name=conv5_block3_preact_relu, built=True>, <Conv2D name=conv5_block3_1_conv, built=True>, <BatchNormalization name=conv5_block3_1_bn, built=True>, <Activation name=conv5_block3_1_relu, built=True>, <ZeroPadding2D name=conv5_block3_2_pad, built=True>, <Conv2D name=conv5_block3_2_conv, built=True>, <BatchNormalization name=conv5_block3_2_bn, built=True>, <Activation name=conv5_block3_2_relu, built=True>, <Conv2D name=conv5_block3_3_conv, built=True>, <Add name=conv5_block3_out, built=True>, <BatchNormalization name=post_bn, built=True>, <Activation name=post_relu, built=True>, <GlobalAveragePooling2D name=ae_gap, built=True>, <Dense name=ae_latent, built=True>, <Functional name=resnet50_decoder, built=True>]\n",
      "(None, 256) (256,)\n"
     ]
    },
    {
     "name": "stderr",
     "output_type": "stream",
     "text": [
      "I0000 00:00:1745883493.161994  209513 service.cc:146] XLA service 0x7ff9940037f0 initialized for platform CUDA (this does not guarantee that XLA will be used). Devices:\n",
      "I0000 00:00:1745883493.162037  209513 service.cc:154]   StreamExecutor device (0): NVIDIA GeForce RTX 4060 Ti, Compute Capability 8.9\n",
      "2025-04-28 16:38:13.236526: I tensorflow/compiler/mlir/tensorflow/utils/dump_mlir_util.cc:268] disabling MLIR crash reproducer, set env var `MLIR_CRASH_REPRODUCER_DIRECTORY` to enable.\n",
      "2025-04-28 16:38:13.681454: I external/local_xla/xla/stream_executor/cuda/cuda_dnn.cc:531] Loaded cuDNN version 90800\n"
     ]
    },
    {
     "name": "stdout",
     "output_type": "stream",
     "text": [
      "\u001b[1m1/1\u001b[0m \u001b[32m━━━━━━━━━━━━━━━━━━━━\u001b[0m\u001b[37m\u001b[0m \u001b[1m6s\u001b[0m 6s/step\n",
      "Loaded a data of shape (10, 257)\n",
      "Save 1 datasets to Au30.hdf5\n",
      "resnet50_256 (10, 257)\n",
      "Final datasets in Au30.hdf5: ['resnet50_256']\n",
      "9.01\n"
     ]
    },
    {
     "name": "stderr",
     "output_type": "stream",
     "text": [
      "I0000 00:00:1745883497.410673  209513 device_compiler.h:188] Compiled cluster using XLA!  This line is logged at most once for the lifetime of the process.\n"
     ]
    }
   ],
   "source": [
    "t0 = time.time()\n",
    "\n",
    "jpg_dir = \"Au30\"\n",
    "# jpg_dir = \"Au324_RT\"\n",
    "\n",
    "# models = [\"ae_conv_4_256_best\"]\n",
    "models = [\"resnet50_256\"]\n",
    "\n",
    "features = []\n",
    "for model in models:\n",
    "    print(\"Extracting features from {} using {} ...\".format(jpg_dir, model))\n",
    "    data = extract_features(jpg_dir, model)\n",
    "    features.append(data)\n",
    "\n",
    "hdf5_file = jpg_dir +'.hdf5'\n",
    "print(\"Save {} datasets to {}\".format(len(features), hdf5_file))\n",
    "with h5py.File(os.path.join(\"features\", hdf5_file), 'w') as h5f:\n",
    "    for m, d in zip(models, features):\n",
    "        print(m, d.shape)\n",
    "        h5f.create_dataset(m, data=d)\n",
    "with h5py.File(os.path.join(\"features\", hdf5_file), 'r') as h5f:\n",
    "    print(\"Final datasets in {}: {}\".format(hdf5_file, list(h5f.keys())))\n",
    "    \n",
    "print(\"%.2f\" % (time.time() - t0))"
   ]
  },
  {
   "cell_type": "code",
   "execution_count": 3,
   "metadata": {},
   "outputs": [
    {
     "name": "stdout",
     "output_type": "stream",
     "text": [
      "resnet50_256\n",
      "(10, 257)\n",
      "Filling 10 features to 2072 data points\n",
      "Read 1 datasets for models ['resnet50_256']\n"
     ]
    }
   ],
   "source": [
    "feature_file=\"Au30\"\n",
    "img_shape = (37, 56)\n",
    "aspect_ratio = 1\n",
    "seqs = [\"C5_30x30\"]\n",
    "\n",
    "ae_models = []\n",
    "features = []\n",
    "\n",
    "with h5py.File(os.path.join(\"features\", feature_file +'.hdf5'), 'r') as h5f:\n",
    "    for k in h5f.keys():\n",
    "        print(k)\n",
    "        data = np.array(h5f.get(k))\n",
    "        print(data.shape)\n",
    "        features.append(fill_features(data, img_shape))\n",
    "        ae_models.append(k)\n",
    "print(\"Read {} datasets for models {}\".format(len(features), ae_models))"
   ]
  },
  {
   "cell_type": "markdown",
   "metadata": {},
   "source": [
    "## Direct Coloring\n",
    "Directly color each point using the first 3 principal components, without clustering."
   ]
  },
  {
   "cell_type": "code",
   "execution_count": 4,
   "metadata": {},
   "outputs": [
    {
     "name": "stderr",
     "output_type": "stream",
     "text": [
      "2025-04-28 16:38:28,927 [MainThread] DEBUG matplotlib.font_manager:1471 - findfont: Matching serif:style=normal:variant=normal:weight=normal:stretch=normal:size=10.0.\n",
      "2025-04-28 16:38:28,928 [MainThread] DEBUG matplotlib.font_manager:1483 - findfont: score(FontEntry(fname='/home/ysong/projects/canon/venv/lib/python3.12/site-packages/matplotlib/mpl-data/fonts/ttf/DejaVuSansMono.ttf', name='DejaVu Sans Mono', style='normal', variant='normal', weight=400, stretch='normal', size='scalable')) = 10.05\n",
      "2025-04-28 16:38:28,929 [MainThread] DEBUG matplotlib.font_manager:1483 - findfont: score(FontEntry(fname='/home/ysong/projects/canon/venv/lib/python3.12/site-packages/matplotlib/mpl-data/fonts/ttf/cmsy10.ttf', name='cmsy10', style='normal', variant='normal', weight=400, stretch='normal', size='scalable')) = 10.05\n",
      "2025-04-28 16:38:28,930 [MainThread] DEBUG matplotlib.font_manager:1483 - findfont: score(FontEntry(fname='/home/ysong/projects/canon/venv/lib/python3.12/site-packages/matplotlib/mpl-data/fonts/ttf/STIXSizThreeSymReg.ttf', name='STIXSizeThreeSym', style='normal', variant='normal', weight=400, stretch='normal', size='scalable')) = 10.05\n",
      "2025-04-28 16:38:28,931 [MainThread] DEBUG matplotlib.font_manager:1483 - findfont: score(FontEntry(fname='/home/ysong/projects/canon/venv/lib/python3.12/site-packages/matplotlib/mpl-data/fonts/ttf/cmmi10.ttf', name='cmmi10', style='normal', variant='normal', weight=400, stretch='normal', size='scalable')) = 10.05\n",
      "2025-04-28 16:38:28,932 [MainThread] DEBUG matplotlib.font_manager:1483 - findfont: score(FontEntry(fname='/home/ysong/projects/canon/venv/lib/python3.12/site-packages/matplotlib/mpl-data/fonts/ttf/cmex10.ttf', name='cmex10', style='normal', variant='normal', weight=400, stretch='normal', size='scalable')) = 10.05\n",
      "2025-04-28 16:38:28,933 [MainThread] DEBUG matplotlib.font_manager:1483 - findfont: score(FontEntry(fname='/home/ysong/projects/canon/venv/lib/python3.12/site-packages/matplotlib/mpl-data/fonts/ttf/STIXSizOneSymReg.ttf', name='STIXSizeOneSym', style='normal', variant='normal', weight=400, stretch='normal', size='scalable')) = 10.05\n",
      "2025-04-28 16:38:28,934 [MainThread] DEBUG matplotlib.font_manager:1483 - findfont: score(FontEntry(fname='/home/ysong/projects/canon/venv/lib/python3.12/site-packages/matplotlib/mpl-data/fonts/ttf/cmb10.ttf', name='cmb10', style='normal', variant='normal', weight=400, stretch='normal', size='scalable')) = 10.05\n",
      "2025-04-28 16:38:28,936 [MainThread] DEBUG matplotlib.font_manager:1483 - findfont: score(FontEntry(fname='/home/ysong/projects/canon/venv/lib/python3.12/site-packages/matplotlib/mpl-data/fonts/ttf/STIXGeneral.ttf', name='STIXGeneral', style='normal', variant='normal', weight=400, stretch='normal', size='scalable')) = 10.05\n",
      "2025-04-28 16:38:28,937 [MainThread] DEBUG matplotlib.font_manager:1483 - findfont: score(FontEntry(fname='/home/ysong/projects/canon/venv/lib/python3.12/site-packages/matplotlib/mpl-data/fonts/ttf/DejaVuSerif-Italic.ttf', name='DejaVu Serif', style='italic', variant='normal', weight=400, stretch='normal', size='scalable')) = 1.05\n",
      "2025-04-28 16:38:28,937 [MainThread] DEBUG matplotlib.font_manager:1483 - findfont: score(FontEntry(fname='/home/ysong/projects/canon/venv/lib/python3.12/site-packages/matplotlib/mpl-data/fonts/ttf/DejaVuSerifDisplay.ttf', name='DejaVu Serif Display', style='normal', variant='normal', weight=400, stretch='normal', size='scalable')) = 10.05\n",
      "2025-04-28 16:38:28,938 [MainThread] DEBUG matplotlib.font_manager:1483 - findfont: score(FontEntry(fname='/home/ysong/projects/canon/venv/lib/python3.12/site-packages/matplotlib/mpl-data/fonts/ttf/STIXSizFiveSymReg.ttf', name='STIXSizeFiveSym', style='normal', variant='normal', weight=400, stretch='normal', size='scalable')) = 10.05\n",
      "2025-04-28 16:38:28,939 [MainThread] DEBUG matplotlib.font_manager:1483 - findfont: score(FontEntry(fname='/home/ysong/projects/canon/venv/lib/python3.12/site-packages/matplotlib/mpl-data/fonts/ttf/STIXSizFourSymReg.ttf', name='STIXSizeFourSym', style='normal', variant='normal', weight=400, stretch='normal', size='scalable')) = 10.05\n",
      "2025-04-28 16:38:28,939 [MainThread] DEBUG matplotlib.font_manager:1483 - findfont: score(FontEntry(fname='/home/ysong/projects/canon/venv/lib/python3.12/site-packages/matplotlib/mpl-data/fonts/ttf/DejaVuSans-Oblique.ttf', name='DejaVu Sans', style='oblique', variant='normal', weight=400, stretch='normal', size='scalable')) = 11.05\n",
      "2025-04-28 16:38:28,940 [MainThread] DEBUG matplotlib.font_manager:1483 - findfont: score(FontEntry(fname='/home/ysong/projects/canon/venv/lib/python3.12/site-packages/matplotlib/mpl-data/fonts/ttf/cmtt10.ttf', name='cmtt10', style='normal', variant='normal', weight=400, stretch='normal', size='scalable')) = 10.05\n",
      "2025-04-28 16:38:28,941 [MainThread] DEBUG matplotlib.font_manager:1483 - findfont: score(FontEntry(fname='/home/ysong/projects/canon/venv/lib/python3.12/site-packages/matplotlib/mpl-data/fonts/ttf/cmss10.ttf', name='cmss10', style='normal', variant='normal', weight=400, stretch='normal', size='scalable')) = 10.05\n",
      "2025-04-28 16:38:28,942 [MainThread] DEBUG matplotlib.font_manager:1483 - findfont: score(FontEntry(fname='/home/ysong/projects/canon/venv/lib/python3.12/site-packages/matplotlib/mpl-data/fonts/ttf/STIXGeneralBol.ttf', name='STIXGeneral', style='normal', variant='normal', weight=700, stretch='normal', size='scalable')) = 10.335\n",
      "2025-04-28 16:38:28,943 [MainThread] DEBUG matplotlib.font_manager:1483 - findfont: score(FontEntry(fname='/home/ysong/projects/canon/venv/lib/python3.12/site-packages/matplotlib/mpl-data/fonts/ttf/DejaVuSansMono-Oblique.ttf', name='DejaVu Sans Mono', style='oblique', variant='normal', weight=400, stretch='normal', size='scalable')) = 11.05\n",
      "2025-04-28 16:38:28,943 [MainThread] DEBUG matplotlib.font_manager:1483 - findfont: score(FontEntry(fname='/home/ysong/projects/canon/venv/lib/python3.12/site-packages/matplotlib/mpl-data/fonts/ttf/STIXSizTwoSymReg.ttf', name='STIXSizeTwoSym', style='normal', variant='normal', weight=400, stretch='normal', size='scalable')) = 10.05\n",
      "2025-04-28 16:38:28,944 [MainThread] DEBUG matplotlib.font_manager:1483 - findfont: score(FontEntry(fname='/home/ysong/projects/canon/venv/lib/python3.12/site-packages/matplotlib/mpl-data/fonts/ttf/STIXSizTwoSymBol.ttf', name='STIXSizeTwoSym', style='normal', variant='normal', weight=700, stretch='normal', size='scalable')) = 10.335\n",
      "2025-04-28 16:38:28,946 [MainThread] DEBUG matplotlib.font_manager:1483 - findfont: score(FontEntry(fname='/home/ysong/projects/canon/venv/lib/python3.12/site-packages/matplotlib/mpl-data/fonts/ttf/DejaVuSans.ttf', name='DejaVu Sans', style='normal', variant='normal', weight=400, stretch='normal', size='scalable')) = 10.05\n",
      "2025-04-28 16:38:28,948 [MainThread] DEBUG matplotlib.font_manager:1483 - findfont: score(FontEntry(fname='/home/ysong/projects/canon/venv/lib/python3.12/site-packages/matplotlib/mpl-data/fonts/ttf/STIXNonUniBol.ttf', name='STIXNonUnicode', style='normal', variant='normal', weight=700, stretch='normal', size='scalable')) = 10.335\n",
      "2025-04-28 16:38:28,949 [MainThread] DEBUG matplotlib.font_manager:1483 - findfont: score(FontEntry(fname='/home/ysong/projects/canon/venv/lib/python3.12/site-packages/matplotlib/mpl-data/fonts/ttf/STIXNonUni.ttf', name='STIXNonUnicode', style='normal', variant='normal', weight=400, stretch='normal', size='scalable')) = 10.05\n",
      "2025-04-28 16:38:28,949 [MainThread] DEBUG matplotlib.font_manager:1483 - findfont: score(FontEntry(fname='/home/ysong/projects/canon/venv/lib/python3.12/site-packages/matplotlib/mpl-data/fonts/ttf/DejaVuSerif-BoldItalic.ttf', name='DejaVu Serif', style='italic', variant='normal', weight=700, stretch='normal', size='scalable')) = 1.335\n",
      "2025-04-28 16:38:28,950 [MainThread] DEBUG matplotlib.font_manager:1483 - findfont: score(FontEntry(fname='/home/ysong/projects/canon/venv/lib/python3.12/site-packages/matplotlib/mpl-data/fonts/ttf/STIXGeneralItalic.ttf', name='STIXGeneral', style='italic', variant='normal', weight=400, stretch='normal', size='scalable')) = 11.05\n",
      "2025-04-28 16:38:28,950 [MainThread] DEBUG matplotlib.font_manager:1483 - findfont: score(FontEntry(fname='/home/ysong/projects/canon/venv/lib/python3.12/site-packages/matplotlib/mpl-data/fonts/ttf/DejaVuSans-Bold.ttf', name='DejaVu Sans', style='normal', variant='normal', weight=700, stretch='normal', size='scalable')) = 10.335\n",
      "2025-04-28 16:38:28,952 [MainThread] DEBUG matplotlib.font_manager:1483 - findfont: score(FontEntry(fname='/home/ysong/projects/canon/venv/lib/python3.12/site-packages/matplotlib/mpl-data/fonts/ttf/STIXNonUniIta.ttf', name='STIXNonUnicode', style='italic', variant='normal', weight=400, stretch='normal', size='scalable')) = 11.05\n",
      "2025-04-28 16:38:28,953 [MainThread] DEBUG matplotlib.font_manager:1483 - findfont: score(FontEntry(fname='/home/ysong/projects/canon/venv/lib/python3.12/site-packages/matplotlib/mpl-data/fonts/ttf/DejaVuSerif-Bold.ttf', name='DejaVu Serif', style='normal', variant='normal', weight=700, stretch='normal', size='scalable')) = 0.33499999999999996\n",
      "2025-04-28 16:38:28,953 [MainThread] DEBUG matplotlib.font_manager:1483 - findfont: score(FontEntry(fname='/home/ysong/projects/canon/venv/lib/python3.12/site-packages/matplotlib/mpl-data/fonts/ttf/STIXSizFourSymBol.ttf', name='STIXSizeFourSym', style='normal', variant='normal', weight=700, stretch='normal', size='scalable')) = 10.335\n",
      "2025-04-28 16:38:28,954 [MainThread] DEBUG matplotlib.font_manager:1483 - findfont: score(FontEntry(fname='/home/ysong/projects/canon/venv/lib/python3.12/site-packages/matplotlib/mpl-data/fonts/ttf/DejaVuSans-BoldOblique.ttf', name='DejaVu Sans', style='oblique', variant='normal', weight=700, stretch='normal', size='scalable')) = 11.335\n",
      "2025-04-28 16:38:28,955 [MainThread] DEBUG matplotlib.font_manager:1483 - findfont: score(FontEntry(fname='/home/ysong/projects/canon/venv/lib/python3.12/site-packages/matplotlib/mpl-data/fonts/ttf/DejaVuSansMono-Bold.ttf', name='DejaVu Sans Mono', style='normal', variant='normal', weight=700, stretch='normal', size='scalable')) = 10.335\n",
      "2025-04-28 16:38:28,956 [MainThread] DEBUG matplotlib.font_manager:1483 - findfont: score(FontEntry(fname='/home/ysong/projects/canon/venv/lib/python3.12/site-packages/matplotlib/mpl-data/fonts/ttf/cmr10.ttf', name='cmr10', style='normal', variant='normal', weight=400, stretch='normal', size='scalable')) = 10.05\n",
      "2025-04-28 16:38:28,956 [MainThread] DEBUG matplotlib.font_manager:1483 - findfont: score(FontEntry(fname='/home/ysong/projects/canon/venv/lib/python3.12/site-packages/matplotlib/mpl-data/fonts/ttf/DejaVuSansDisplay.ttf', name='DejaVu Sans Display', style='normal', variant='normal', weight=400, stretch='normal', size='scalable')) = 10.05\n",
      "2025-04-28 16:38:28,957 [MainThread] DEBUG matplotlib.font_manager:1483 - findfont: score(FontEntry(fname='/home/ysong/projects/canon/venv/lib/python3.12/site-packages/matplotlib/mpl-data/fonts/ttf/DejaVuSerif.ttf', name='DejaVu Serif', style='normal', variant='normal', weight=400, stretch='normal', size='scalable')) = 0.05\n",
      "2025-04-28 16:38:28,958 [MainThread] DEBUG matplotlib.font_manager:1483 - findfont: score(FontEntry(fname='/home/ysong/projects/canon/venv/lib/python3.12/site-packages/matplotlib/mpl-data/fonts/ttf/STIXNonUniBolIta.ttf', name='STIXNonUnicode', style='italic', variant='normal', weight=700, stretch='normal', size='scalable')) = 11.335\n",
      "2025-04-28 16:38:28,959 [MainThread] DEBUG matplotlib.font_manager:1483 - findfont: score(FontEntry(fname='/home/ysong/projects/canon/venv/lib/python3.12/site-packages/matplotlib/mpl-data/fonts/ttf/STIXSizThreeSymBol.ttf', name='STIXSizeThreeSym', style='normal', variant='normal', weight=700, stretch='normal', size='scalable')) = 10.335\n",
      "2025-04-28 16:38:28,959 [MainThread] DEBUG matplotlib.font_manager:1483 - findfont: score(FontEntry(fname='/home/ysong/projects/canon/venv/lib/python3.12/site-packages/matplotlib/mpl-data/fonts/ttf/STIXSizOneSymBol.ttf', name='STIXSizeOneSym', style='normal', variant='normal', weight=700, stretch='normal', size='scalable')) = 10.335\n",
      "2025-04-28 16:38:28,959 [MainThread] DEBUG matplotlib.font_manager:1483 - findfont: score(FontEntry(fname='/home/ysong/projects/canon/venv/lib/python3.12/site-packages/matplotlib/mpl-data/fonts/ttf/STIXGeneralBolIta.ttf', name='STIXGeneral', style='italic', variant='normal', weight=700, stretch='normal', size='scalable')) = 11.335\n",
      "2025-04-28 16:38:28,960 [MainThread] DEBUG matplotlib.font_manager:1483 - findfont: score(FontEntry(fname='/home/ysong/projects/canon/venv/lib/python3.12/site-packages/matplotlib/mpl-data/fonts/ttf/DejaVuSansMono-BoldOblique.ttf', name='DejaVu Sans Mono', style='oblique', variant='normal', weight=700, stretch='normal', size='scalable')) = 11.335\n",
      "2025-04-28 16:38:28,961 [MainThread] DEBUG matplotlib.font_manager:1483 - findfont: score(FontEntry(fname='/home/ysong/projects/canon/venv/fonts/Ubuntu-LI.ttf', name='Ubuntu', style='italic', variant='normal', weight=300, stretch='normal', size='scalable')) = 11.145\n",
      "2025-04-28 16:38:28,962 [MainThread] DEBUG matplotlib.font_manager:1483 - findfont: score(FontEntry(fname='/home/ysong/projects/canon/venv/fonts/SourceCodePro-Medium.ttf', name='Source Code Pro', style='normal', variant='normal', weight=500, stretch='normal', size='scalable')) = 10.145\n",
      "2025-04-28 16:38:28,963 [MainThread] DEBUG matplotlib.font_manager:1483 - findfont: score(FontEntry(fname='/usr/share/fonts/truetype/dejavu/DejaVuSans-Bold.ttf', name='DejaVu Sans', style='normal', variant='normal', weight=700, stretch='normal', size='scalable')) = 10.335\n",
      "2025-04-28 16:38:28,964 [MainThread] DEBUG matplotlib.font_manager:1483 - findfont: score(FontEntry(fname='/home/ysong/projects/canon/venv/fonts/SourceCodePro-Semibold.ttf', name='Source Code Pro', style='normal', variant='normal', weight=600, stretch='normal', size='scalable')) = 10.24\n",
      "2025-04-28 16:38:28,966 [MainThread] DEBUG matplotlib.font_manager:1483 - findfont: score(FontEntry(fname='/home/ysong/projects/canon/venv/fonts/SourceCodePro-ExtraLightIt.ttf', name='Source Code Pro', style='italic', variant='normal', weight=200, stretch='normal', size='scalable')) = 11.24\n",
      "2025-04-28 16:38:28,969 [MainThread] DEBUG matplotlib.font_manager:1483 - findfont: score(FontEntry(fname='/usr/share/fonts/truetype/ubuntu/Ubuntu-LI.ttf', name='Ubuntu', style='italic', variant='normal', weight=400, stretch='normal', size='scalable')) = 11.05\n",
      "2025-04-28 16:38:28,970 [MainThread] DEBUG matplotlib.font_manager:1483 - findfont: score(FontEntry(fname='/home/ysong/projects/canon/venv/fonts/SourceCodePro-ExtraLight.ttf', name='Source Code Pro', style='normal', variant='normal', weight=200, stretch='normal', size='scalable')) = 10.24\n",
      "2025-04-28 16:38:28,970 [MainThread] DEBUG matplotlib.font_manager:1483 - findfont: score(FontEntry(fname='/home/ysong/projects/canon/venv/fonts/SourceCodePro-LightIt.ttf', name='Source Code Pro', style='italic', variant='normal', weight=300, stretch='normal', size='scalable')) = 11.145\n",
      "2025-04-28 16:38:28,971 [MainThread] DEBUG matplotlib.font_manager:1483 - findfont: score(FontEntry(fname='/home/ysong/projects/canon/venv/fonts/SourceCodePro-Light.ttf', name='Source Code Pro', style='normal', variant='normal', weight=300, stretch='normal', size='scalable')) = 10.145\n",
      "2025-04-28 16:38:28,971 [MainThread] DEBUG matplotlib.font_manager:1483 - findfont: score(FontEntry(fname='/usr/share/fonts/truetype/ubuntu/UbuntuMono-R.ttf', name='Ubuntu Mono', style='normal', variant='normal', weight=400, stretch='normal', size='scalable')) = 10.05\n",
      "2025-04-28 16:38:28,972 [MainThread] DEBUG matplotlib.font_manager:1483 - findfont: score(FontEntry(fname='/usr/share/fonts/truetype/ubuntu/Ubuntu[wdth,wght].ttf', name='Ubuntu', style='normal', variant='normal', weight=400, stretch='normal', size='scalable')) = 10.05\n",
      "2025-04-28 16:38:28,972 [MainThread] DEBUG matplotlib.font_manager:1483 - findfont: score(FontEntry(fname='/home/ysong/projects/canon/venv/fonts/Ubuntu-B.ttf', name='Ubuntu', style='normal', variant='normal', weight=700, stretch='normal', size='scalable')) = 10.335\n",
      "2025-04-28 16:38:28,973 [MainThread] DEBUG matplotlib.font_manager:1483 - findfont: score(FontEntry(fname='/usr/share/fonts/truetype/dejavu/DejaVuSansMono-Bold.ttf', name='DejaVu Sans Mono', style='normal', variant='normal', weight=700, stretch='normal', size='scalable')) = 10.335\n",
      "2025-04-28 16:38:28,974 [MainThread] DEBUG matplotlib.font_manager:1483 - findfont: score(FontEntry(fname='/home/ysong/projects/canon/venv/fonts/UbuntuMono-R.ttf', name='Ubuntu Mono', style='normal', variant='normal', weight=400, stretch='normal', size='scalable')) = 10.05\n",
      "2025-04-28 16:38:28,974 [MainThread] DEBUG matplotlib.font_manager:1483 - findfont: score(FontEntry(fname='/home/ysong/projects/canon/venv/fonts/Ubuntu-R.ttf', name='Ubuntu', style='normal', variant='normal', weight=400, stretch='normal', size='scalable')) = 10.05\n",
      "2025-04-28 16:38:28,975 [MainThread] DEBUG matplotlib.font_manager:1483 - findfont: score(FontEntry(fname='/home/ysong/projects/canon/venv/fonts/SourceCodePro-SemiboldIt.ttf', name='Source Code Pro', style='italic', variant='normal', weight=600, stretch='normal', size='scalable')) = 11.24\n",
      "2025-04-28 16:38:28,975 [MainThread] DEBUG matplotlib.font_manager:1483 - findfont: score(FontEntry(fname='/usr/share/fonts/truetype/ubuntu/Ubuntu-MI.ttf', name='Ubuntu', style='italic', variant='normal', weight=400, stretch='normal', size='scalable')) = 11.05\n",
      "2025-04-28 16:38:28,976 [MainThread] DEBUG matplotlib.font_manager:1483 - findfont: score(FontEntry(fname='/home/ysong/projects/canon/venv/fonts/UbuntuMono-B.ttf', name='Ubuntu Mono', style='normal', variant='normal', weight=700, stretch='normal', size='scalable')) = 10.335\n",
      "2025-04-28 16:38:28,976 [MainThread] DEBUG matplotlib.font_manager:1483 - findfont: score(FontEntry(fname='/usr/share/fonts/truetype/ubuntu/Ubuntu-Th.ttf', name='Ubuntu', style='normal', variant='normal', weight=400, stretch='normal', size='scalable')) = 10.05\n",
      "2025-04-28 16:38:28,977 [MainThread] DEBUG matplotlib.font_manager:1483 - findfont: score(FontEntry(fname='/home/ysong/projects/canon/venv/fonts/Ubuntu-BI.ttf', name='Ubuntu', style='italic', variant='normal', weight=700, stretch='normal', size='scalable')) = 11.335\n",
      "2025-04-28 16:38:28,978 [MainThread] DEBUG matplotlib.font_manager:1483 - findfont: score(FontEntry(fname='/usr/share/fonts/truetype/dejavu/DejaVuSansMono.ttf', name='DejaVu Sans Mono', style='normal', variant='normal', weight=400, stretch='normal', size='scalable')) = 10.05\n",
      "2025-04-28 16:38:28,979 [MainThread] DEBUG matplotlib.font_manager:1483 - findfont: score(FontEntry(fname='/home/ysong/projects/canon/venv/fonts/Ubuntu-L.ttf', name='Ubuntu', style='normal', variant='normal', weight=300, stretch='normal', size='scalable')) = 10.145\n",
      "2025-04-28 16:38:28,980 [MainThread] DEBUG matplotlib.font_manager:1483 - findfont: score(FontEntry(fname='/usr/share/fonts/truetype/ubuntu/UbuntuSansMono-Italic[wght].ttf', name='Ubuntu Sans Mono', style='italic', variant='normal', weight=400, stretch='normal', size='scalable')) = 11.05\n",
      "2025-04-28 16:38:28,981 [MainThread] DEBUG matplotlib.font_manager:1483 - findfont: score(FontEntry(fname='/usr/share/fonts/truetype/ubuntu/Ubuntu-Italic[wdth,wght].ttf', name='Ubuntu', style='italic', variant='normal', weight=400, stretch='normal', size='scalable')) = 11.05\n",
      "2025-04-28 16:38:28,982 [MainThread] DEBUG matplotlib.font_manager:1483 - findfont: score(FontEntry(fname='/home/ysong/projects/canon/venv/fonts/SourceCodePro-Black.ttf', name='Source Code Pro', style='normal', variant='normal', weight=900, stretch='normal', size='scalable')) = 10.525\n",
      "2025-04-28 16:38:28,983 [MainThread] DEBUG matplotlib.font_manager:1483 - findfont: score(FontEntry(fname='/usr/share/fonts/truetype/ubuntu/Ubuntu-L.ttf', name='Ubuntu', style='normal', variant='normal', weight=400, stretch='normal', size='scalable')) = 10.05\n",
      "2025-04-28 16:38:28,985 [MainThread] DEBUG matplotlib.font_manager:1483 - findfont: score(FontEntry(fname='/home/ysong/projects/canon/venv/fonts/Ubuntu-RI.ttf', name='Ubuntu', style='italic', variant='normal', weight=400, stretch='normal', size='scalable')) = 11.05\n",
      "2025-04-28 16:38:28,986 [MainThread] DEBUG matplotlib.font_manager:1483 - findfont: score(FontEntry(fname='/home/ysong/projects/canon/venv/fonts/Inconsolata-Regular.ttf', name='Inconsolata', style='normal', variant='normal', weight=400, stretch='normal', size='scalable')) = 10.05\n",
      "2025-04-28 16:38:28,986 [MainThread] DEBUG matplotlib.font_manager:1483 - findfont: score(FontEntry(fname='/home/ysong/projects/canon/venv/fonts/Ubuntu-Th.ttf', name='Ubuntu', style='normal', variant='normal', weight=250, stretch='normal', size='scalable')) = 10.1925\n",
      "2025-04-28 16:38:28,987 [MainThread] DEBUG matplotlib.font_manager:1483 - findfont: score(FontEntry(fname='/usr/share/fonts/truetype/ubuntu/UbuntuMono-RI.ttf', name='Ubuntu Mono', style='italic', variant='normal', weight=400, stretch='normal', size='scalable')) = 11.05\n",
      "2025-04-28 16:38:28,987 [MainThread] DEBUG matplotlib.font_manager:1483 - findfont: score(FontEntry(fname='/usr/share/fonts/truetype/dejavu/DejaVuSansMono-BoldOblique.ttf', name='DejaVu Sans Mono', style='oblique', variant='normal', weight=700, stretch='normal', size='scalable')) = 11.335\n",
      "2025-04-28 16:38:28,988 [MainThread] DEBUG matplotlib.font_manager:1483 - findfont: score(FontEntry(fname='/usr/share/fonts/truetype/dejavu/DejaVuSansMono-Oblique.ttf', name='DejaVu Sans Mono', style='oblique', variant='normal', weight=400, stretch='normal', size='scalable')) = 11.05\n",
      "2025-04-28 16:38:28,989 [MainThread] DEBUG matplotlib.font_manager:1483 - findfont: score(FontEntry(fname='/usr/share/fonts/truetype/ubuntu/UbuntuMono-B.ttf', name='Ubuntu Mono', style='normal', variant='normal', weight=400, stretch='normal', size='scalable')) = 10.05\n",
      "2025-04-28 16:38:28,990 [MainThread] DEBUG matplotlib.font_manager:1483 - findfont: score(FontEntry(fname='/usr/share/fonts/truetype/ubuntu/UbuntuMono[wght].ttf', name='Ubuntu Mono', style='normal', variant='normal', weight=400, stretch='normal', size='scalable')) = 10.05\n",
      "2025-04-28 16:38:28,992 [MainThread] DEBUG matplotlib.font_manager:1483 - findfont: score(FontEntry(fname='/home/ysong/projects/canon/venv/fonts/SourceCodePro-BoldIt.ttf', name='Source Code Pro', style='italic', variant='normal', weight=700, stretch='normal', size='scalable')) = 11.335\n",
      "2025-04-28 16:38:28,993 [MainThread] DEBUG matplotlib.font_manager:1483 - findfont: score(FontEntry(fname='/home/ysong/projects/canon/venv/fonts/UbuntuMono-BI.ttf', name='Ubuntu Mono', style='italic', variant='normal', weight=700, stretch='normal', size='scalable')) = 11.335\n",
      "2025-04-28 16:38:28,994 [MainThread] DEBUG matplotlib.font_manager:1483 - findfont: score(FontEntry(fname='/home/ysong/projects/canon/venv/fonts/Inconsolata-Bold.ttf', name='Inconsolata', style='normal', variant='normal', weight=700, stretch='normal', size='scalable')) = 10.335\n",
      "2025-04-28 16:38:28,995 [MainThread] DEBUG matplotlib.font_manager:1483 - findfont: score(FontEntry(fname='/usr/share/fonts/truetype/ubuntu/Ubuntu-BI.ttf', name='Ubuntu', style='italic', variant='normal', weight=400, stretch='normal', size='scalable')) = 11.05\n",
      "2025-04-28 16:38:28,996 [MainThread] DEBUG matplotlib.font_manager:1483 - findfont: score(FontEntry(fname='/home/ysong/projects/canon/venv/fonts/Ubuntu-M.ttf', name='Ubuntu', style='normal', variant='normal', weight=500, stretch='normal', size='scalable')) = 10.145\n",
      "2025-04-28 16:38:28,997 [MainThread] DEBUG matplotlib.font_manager:1483 - findfont: score(FontEntry(fname='/usr/share/fonts/truetype/ubuntu/Ubuntu-B.ttf', name='Ubuntu', style='normal', variant='normal', weight=400, stretch='normal', size='scalable')) = 10.05\n",
      "2025-04-28 16:38:28,998 [MainThread] DEBUG matplotlib.font_manager:1483 - findfont: score(FontEntry(fname='/usr/share/fonts/truetype/ubuntu/Ubuntu-RI.ttf', name='Ubuntu', style='italic', variant='normal', weight=400, stretch='normal', size='scalable')) = 11.05\n",
      "2025-04-28 16:38:28,999 [MainThread] DEBUG matplotlib.font_manager:1483 - findfont: score(FontEntry(fname='/home/ysong/projects/canon/venv/fonts/Ubuntu-C.ttf', name='Ubuntu Condensed', style='normal', variant='normal', weight=400, stretch='condensed', size='scalable')) = 10.25\n",
      "2025-04-28 16:38:29,000 [MainThread] DEBUG matplotlib.font_manager:1483 - findfont: score(FontEntry(fname='/usr/share/fonts/truetype/ubuntu/UbuntuMono-BI.ttf', name='Ubuntu Mono', style='italic', variant='normal', weight=400, stretch='normal', size='scalable')) = 11.05\n",
      "2025-04-28 16:38:29,001 [MainThread] DEBUG matplotlib.font_manager:1483 - findfont: score(FontEntry(fname='/home/ysong/projects/canon/venv/fonts/SourceCodePro-BlackIt.ttf', name='Source Code Pro', style='italic', variant='normal', weight=900, stretch='normal', size='scalable')) = 11.525\n",
      "2025-04-28 16:38:29,002 [MainThread] DEBUG matplotlib.font_manager:1483 - findfont: score(FontEntry(fname='/home/ysong/projects/canon/venv/fonts/DejaVuSans.ttf', name='DejaVu Sans', style='normal', variant='normal', weight=400, stretch='normal', size='scalable')) = 10.05\n",
      "2025-04-28 16:38:29,003 [MainThread] DEBUG matplotlib.font_manager:1483 - findfont: score(FontEntry(fname='/usr/share/fonts/truetype/ubuntu/UbuntuSansMono[wght].ttf', name='Ubuntu Sans Mono', style='normal', variant='normal', weight=400, stretch='normal', size='scalable')) = 10.05\n",
      "2025-04-28 16:38:29,006 [MainThread] DEBUG matplotlib.font_manager:1483 - findfont: score(FontEntry(fname='/home/ysong/projects/canon/venv/fonts/SourceCodePro-Regular.ttf', name='Source Code Pro', style='normal', variant='normal', weight=400, stretch='normal', size='scalable')) = 10.05\n",
      "2025-04-28 16:38:29,007 [MainThread] DEBUG matplotlib.font_manager:1483 - findfont: score(FontEntry(fname='/home/ysong/projects/canon/venv/fonts/SourceCodePro-Bold.ttf', name='Source Code Pro', style='normal', variant='normal', weight=700, stretch='normal', size='scalable')) = 10.335\n",
      "2025-04-28 16:38:29,008 [MainThread] DEBUG matplotlib.font_manager:1483 - findfont: score(FontEntry(fname='/home/ysong/projects/canon/venv/fonts/UbuntuMono-RI.ttf', name='Ubuntu Mono', style='italic', variant='normal', weight=400, stretch='normal', size='scalable')) = 11.05\n",
      "2025-04-28 16:38:29,008 [MainThread] DEBUG matplotlib.font_manager:1483 - findfont: score(FontEntry(fname='/home/ysong/projects/canon/venv/fonts/SourceCodePro-MediumIt.ttf', name='Source Code Pro', style='italic', variant='normal', weight=500, stretch='normal', size='scalable')) = 11.145\n",
      "2025-04-28 16:38:29,009 [MainThread] DEBUG matplotlib.font_manager:1483 - findfont: score(FontEntry(fname='/usr/share/fonts/truetype/ubuntu/Ubuntu-M.ttf', name='Ubuntu', style='normal', variant='normal', weight=400, stretch='normal', size='scalable')) = 10.05\n",
      "2025-04-28 16:38:29,010 [MainThread] DEBUG matplotlib.font_manager:1483 - findfont: score(FontEntry(fname='/usr/share/fonts/truetype/ubuntu/Ubuntu-R.ttf', name='Ubuntu', style='normal', variant='normal', weight=400, stretch='normal', size='scalable')) = 10.05\n",
      "2025-04-28 16:38:29,011 [MainThread] DEBUG matplotlib.font_manager:1483 - findfont: score(FontEntry(fname='/usr/share/fonts/truetype/ubuntu/UbuntuSans[wdth,wght].ttf', name='Ubuntu Sans', style='normal', variant='normal', weight=400, stretch='normal', size='scalable')) = 10.05\n",
      "2025-04-28 16:38:29,012 [MainThread] DEBUG matplotlib.font_manager:1483 - findfont: score(FontEntry(fname='/usr/share/fonts/truetype/ubuntu/Ubuntu-C.ttf', name='Ubuntu', style='normal', variant='normal', weight=400, stretch='normal', size='scalable')) = 10.05\n",
      "2025-04-28 16:38:29,013 [MainThread] DEBUG matplotlib.font_manager:1483 - findfont: score(FontEntry(fname='/usr/share/fonts/truetype/dejavu/DejaVuSerif-Bold.ttf', name='DejaVu Serif', style='normal', variant='normal', weight=700, stretch='normal', size='scalable')) = 0.33499999999999996\n",
      "2025-04-28 16:38:29,014 [MainThread] DEBUG matplotlib.font_manager:1483 - findfont: score(FontEntry(fname='/usr/share/fonts/truetype/ubuntu/UbuntuMono-Italic[wght].ttf', name='Ubuntu Mono', style='italic', variant='normal', weight=400, stretch='normal', size='scalable')) = 11.05\n",
      "2025-04-28 16:38:29,015 [MainThread] DEBUG matplotlib.font_manager:1483 - findfont: score(FontEntry(fname='/usr/share/fonts/truetype/dejavu/DejaVuSans.ttf', name='DejaVu Sans', style='normal', variant='normal', weight=400, stretch='normal', size='scalable')) = 10.05\n",
      "2025-04-28 16:38:29,016 [MainThread] DEBUG matplotlib.font_manager:1483 - findfont: score(FontEntry(fname='/usr/share/fonts/truetype/dejavu/DejaVuSerif.ttf', name='DejaVu Serif', style='normal', variant='normal', weight=400, stretch='normal', size='scalable')) = 0.05\n",
      "2025-04-28 16:38:29,017 [MainThread] DEBUG matplotlib.font_manager:1483 - findfont: score(FontEntry(fname='/usr/share/fonts/truetype/ubuntu/UbuntuSans-Italic[wdth,wght].ttf', name='Ubuntu Sans', style='italic', variant='normal', weight=400, stretch='normal', size='scalable')) = 11.05\n",
      "2025-04-28 16:38:29,018 [MainThread] DEBUG matplotlib.font_manager:1483 - findfont: score(FontEntry(fname='/home/ysong/projects/canon/venv/fonts/Ubuntu-MI.ttf', name='Ubuntu', style='italic', variant='normal', weight=500, stretch='normal', size='scalable')) = 11.145\n",
      "2025-04-28 16:38:29,018 [MainThread] DEBUG matplotlib.font_manager:1483 - findfont: score(FontEntry(fname='/home/ysong/projects/canon/venv/fonts/SourceCodePro-It.ttf', name='Source Code Pro', style='italic', variant='normal', weight=400, stretch='normal', size='scalable')) = 11.05\n",
      "2025-04-28 16:38:29,019 [MainThread] DEBUG matplotlib.font_manager:1515 - findfont: Matching serif:style=normal:variant=normal:weight=normal:stretch=normal:size=10.0 to DejaVu Serif ('/home/ysong/projects/canon/venv/lib/python3.12/site-packages/matplotlib/mpl-data/fonts/ttf/DejaVuSerif.ttf') with score of 0.050000.\n"
     ]
    },
    {
     "data": {
      "image/png": "[encoded data removed]",
      "text/plain": [
       "<Figure size 400x400 with 1 Axes>"
      ]
     },
     "metadata": {},
     "output_type": "display_data"
    }
   ],
   "source": [
    "def draw_direct_color(features, ax):\n",
    "    pca = PCA(n_components=3)\n",
    "    X = pca.fit_transform(features)\n",
    "    pca_range = [X.min(axis=0), X.max(axis=0)]\n",
    "    X = (X - pca_range[0]) / (pca_range[1] - pca_range[0])\n",
    "    Z = np.zeros((img_shape[0], img_shape[1], 3))\n",
    "    Z[:, :, 0] = X[:, 0].reshape(img_shape)\n",
    "    Z[:, :, 1] = X[:, 1].reshape(img_shape)\n",
    "    Z[:, :, 2] = X[:, 2].reshape(img_shape)\n",
    "    img = Z[::-1, :, :]\n",
    "    ax.imshow(img, aspect=aspect_ratio)\n",
    "    return img\n",
    "\n",
    "fig, ax = plt.subplots(ncols=1, nrows=1, figsize=(4, 4))\n",
    "f = features[0]\n",
    "img_dc = draw_direct_color(f, ax)\n",
    "ax.axis('on')\n",
    "plt.tight_layout()\n",
    "# fig.savefig(\"img/Au30_Direct_Color.pdf\", dpi=300)"
   ]
  },
  {
   "cell_type": "markdown",
   "metadata": {},
   "source": [
    "## Clustering\n",
    "The normal clustering + labeling"
   ]
  },
  {
   "cell_type": "code",
   "execution_count": 20,
   "metadata": {},
   "outputs": [
    {
     "name": "stdout",
     "output_type": "stream",
     "text": [
      "train and score: 0.08783817291259766\n"
     ]
    },
    {
     "ename": "NameError",
     "evalue": "name 'calinski_harabaz_score' is not defined",
     "output_type": "error",
     "traceback": [
      "\u001b[0;31m---------------------------------------------------------------------------\u001b[0m",
      "\u001b[0;31mNameError\u001b[0m                                 Traceback (most recent call last)",
      "\u001b[0;32m<ipython-input-20-252569c5df8a>\u001b[0m in \u001b[0;36m<module>\u001b[0;34m\u001b[0m\n\u001b[1;32m     25\u001b[0m \u001b[0;34m\u001b[0m\u001b[0m\n\u001b[1;32m     26\u001b[0m \u001b[0msilhouette\u001b[0m \u001b[0;34m=\u001b[0m \u001b[0mmodel\u001b[0m\u001b[0;34m.\u001b[0m\u001b[0mcompute_silhouette_score\u001b[0m\u001b[0;34m(\u001b[0m\u001b[0msamples\u001b[0m\u001b[0;34m)\u001b[0m\u001b[0;34m\u001b[0m\u001b[0;34m\u001b[0m\u001b[0m\n\u001b[0;32m---> 27\u001b[0;31m \u001b[0mcalinski\u001b[0m \u001b[0;34m=\u001b[0m \u001b[0mmodel\u001b[0m\u001b[0;34m.\u001b[0m\u001b[0mcompute_calinski_harabaz_score\u001b[0m\u001b[0;34m(\u001b[0m\u001b[0msamples\u001b[0m\u001b[0;34m)\u001b[0m\u001b[0;34m\u001b[0m\u001b[0;34m\u001b[0m\u001b[0m\n\u001b[0m\u001b[1;32m     28\u001b[0m \u001b[0mprint\u001b[0m\u001b[0;34m(\u001b[0m\u001b[0;34m\"Silhouette Score = {}, Calinski-Harabaz Score = {}\"\u001b[0m\u001b[0;34m.\u001b[0m\u001b[0mformat\u001b[0m\u001b[0;34m(\u001b[0m\u001b[0msilhouette\u001b[0m\u001b[0;34m,\u001b[0m \u001b[0mcalinski\u001b[0m\u001b[0;34m)\u001b[0m\u001b[0;34m)\u001b[0m\u001b[0;34m\u001b[0m\u001b[0;34m\u001b[0m\u001b[0m\n\u001b[1;32m     29\u001b[0m \u001b[0;34m\u001b[0m\u001b[0m\n",
      "\u001b[0;32m~/Pyprojects/canon/canon/pattern/model.py\u001b[0m in \u001b[0;36mcompute_calinski_harabaz_score\u001b[0;34m(self, data)\u001b[0m\n\u001b[1;32m    122\u001b[0m         \u001b[0;32mfor\u001b[0m \u001b[0mpreprocessor\u001b[0m \u001b[0;32min\u001b[0m \u001b[0mself\u001b[0m\u001b[0;34m.\u001b[0m\u001b[0m__preprocessors\u001b[0m\u001b[0;34m:\u001b[0m\u001b[0;34m\u001b[0m\u001b[0;34m\u001b[0m\u001b[0m\n\u001b[1;32m    123\u001b[0m             \u001b[0mX\u001b[0m \u001b[0;34m=\u001b[0m \u001b[0mpreprocessor\u001b[0m\u001b[0;34m.\u001b[0m\u001b[0mtransform\u001b[0m\u001b[0;34m(\u001b[0m\u001b[0mX\u001b[0m\u001b[0;34m)\u001b[0m\u001b[0;34m\u001b[0m\u001b[0;34m\u001b[0m\u001b[0m\n\u001b[0;32m--> 124\u001b[0;31m         \u001b[0;32mreturn\u001b[0m \u001b[0mcalinski_harabasz_score\u001b[0m\u001b[0;34m(\u001b[0m\u001b[0mdata\u001b[0m\u001b[0;34m,\u001b[0m \u001b[0mself\u001b[0m\u001b[0;34m.\u001b[0m\u001b[0m_estimator\u001b[0m\u001b[0;34m.\u001b[0m\u001b[0mpredict\u001b[0m\u001b[0;34m(\u001b[0m\u001b[0mX\u001b[0m\u001b[0;34m)\u001b[0m\u001b[0;34m)\u001b[0m\u001b[0;34m\u001b[0m\u001b[0;34m\u001b[0m\u001b[0m\n\u001b[0m\u001b[1;32m    125\u001b[0m \u001b[0;34m\u001b[0m\u001b[0m\n\u001b[1;32m    126\u001b[0m     \u001b[0;32mdef\u001b[0m \u001b[0mtrain\u001b[0m\u001b[0;34m(\u001b[0m\u001b[0mself\u001b[0m\u001b[0;34m,\u001b[0m \u001b[0mdata\u001b[0m\u001b[0;34m,\u001b[0m \u001b[0mpreprocessors\u001b[0m\u001b[0;34m=\u001b[0m\u001b[0;32mNone\u001b[0m\u001b[0;34m,\u001b[0m \u001b[0mn_clusters\u001b[0m\u001b[0;34m=\u001b[0m\u001b[0;32mNone\u001b[0m\u001b[0;34m)\u001b[0m\u001b[0;34m:\u001b[0m\u001b[0;34m\u001b[0m\u001b[0;34m\u001b[0m\u001b[0m\n",
      "\u001b[0;31mNameError\u001b[0m: name 'calinski_harabaz_score' is not defined"
     ]
    }
   ],
   "source": [
    "dataset = 0\n",
    "ae_model = ae_models[dataset]\n",
    "samples = features[dataset]\n",
    "\n",
    "mPCA = None\n",
    "K = 16\n",
    "N = samples.shape[0]\n",
    "\n",
    "model = KMeansModel()\n",
    "if mPCA is not None and mPCA < samples.shape[1]:\n",
    "    pca = PCA(n_components=mPCA)\n",
    "    preprocessors = [pca]\n",
    "else:\n",
    "    preprocessors=[]\n",
    "\n",
    "t0 = time.time()\n",
    "if N > 6400:\n",
    "    print(\"To many feature vectors, pick 6400 samples to train clustering\")\n",
    "    training_set = samples[np.random.choice(np.arange(N), 6400)]\n",
    "else:\n",
    "    training_set = samples\n",
    "model.train(training_set, n_clusters=K, preprocessors=preprocessors)\n",
    "scores = np.array(model.score(samples))\n",
    "print(\"train and score:\", time.time() - t0)\n",
    "\n",
    "silhouette = model.compute_silhouette_score(samples)\n",
    "calinski = model.compute_calinski_harabaz_score(samples)\n",
    "print(\"Silhouette Score = {}, Calinski-Harabaz Score = {}\".format(silhouette, calinski))\n",
    "\n",
    "fig, ax = plt.subplots(ncols=1, nrows=1)\n",
    "\n",
    "Z = model.color_by_pca(scores.reshape(img_shape), scaling='centroids')\n",
    "ax.imshow(Z[::-1, :, :], aspect=aspect_ratio)\n",
    "ax.axis('off')\n",
    "plt.tight_layout()\n",
    "# fig.savefig(\"img/C5_3.pdf\", dpi=300)"
   ]
  },
  {
   "cell_type": "code",
   "execution_count": 11,
   "metadata": {},
   "outputs": [],
   "source": [
    "img_k16 = Z[::-1, :, :]"
   ]
  },
  {
   "cell_type": "markdown",
   "metadata": {},
   "source": [
    "## Indexing Labeler\n",
    "\n",
    "Requires SEQ file(s)"
   ]
  },
  {
   "cell_type": "code",
   "execution_count": 12,
   "metadata": {},
   "outputs": [
    {
     "data": {
      "image/png": "[encoded data removed]",
      "text/plain": [
       "<Figure size 864x360 with 2 Axes>"
      ]
     },
     "metadata": {
      "needs_background": "light"
     },
     "output_type": "display_data"
    }
   ],
   "source": [
    "Z = read_seq(seqs[0])\n",
    "vmax, vmin = Z.max(), Z.min()\n",
    "seqfiles = [os.path.join(\"seq\", seq+\".SEQ\") for seq in seqs]\n",
    "labler = SeqLabeler(seqfiles, nidx_thres=6)\n",
    "Z_seq = labler.Z_map()\n",
    "mask = np.where(np.isfinite(Z_seq))\n",
    "vmin, vmax = Z_seq[mask].min(), Z_seq[mask].max()\n",
    "\n",
    "Z = model.score_by_seqs(samples, seqfiles)\n",
    "fig, ax = plt.subplots(ncols=2, nrows=1, figsize=(12, 5))\n",
    "ax[0].imshow(Z[::-1, :], cmap='jet', aspect=1)\n",
    "ax[0].axis('off')\n",
    "ax[0].set_title(r'$K$=%d' % K, fontsize=12)\n",
    "ax[1].imshow(Z_seq[::-1, :], cmap='jet', aspect=1)\n",
    "ax[1].axis('off')\n",
    "ax[1].set_title(r'True Value (SEQ)', fontsize=12)\n",
    "plt.tight_layout()"
   ]
  },
  {
   "cell_type": "code",
   "execution_count": 15,
   "metadata": {},
   "outputs": [],
   "source": [
    "img_seq_k16=Z[::-1, :]\n",
    "img_seq=Z_seq[::-1, :]"
   ]
  },
  {
   "cell_type": "markdown",
   "metadata": {},
   "source": [
    "# Silhouette Score & Calinski-Harabaz Score\n",
    "Use Silhouette Score & Calinski-Harabaz Score to estimate number of \"coarse\" clusters.\n",
    "Good for grain boundaries and phase boundaries."
   ]
  },
  {
   "cell_type": "code",
   "execution_count": null,
   "metadata": {},
   "outputs": [
    {
     "name": "stderr",
     "output_type": "stream",
     "text": [
      "[Parallel(n_jobs=-1)]: Using backend LokyBackend with 16 concurrent workers.\n",
      "[Parallel(n_jobs=-1)]: Done   6 out of  18 | elapsed:    0.7s remaining:    1.4s\n"
     ]
    },
    {
     "ename": "AttributeError",
     "evalue": "'KMeansModel' object has no attribute 'compute_calinski_harabasz_score'",
     "output_type": "error",
     "traceback": [
      "\u001b[0;31m---------------------------------------------------------------------------\u001b[0m",
      "\u001b[0;31m_RemoteTraceback\u001b[0m                          Traceback (most recent call last)",
      "\u001b[0;31m_RemoteTraceback\u001b[0m: \n\"\"\"\nTraceback (most recent call last):\n  File \"/opt/conda/envs/canon/lib/python3.6/site-packages/joblib/externals/loky/process_executor.py\", line 431, in _process_worker\n    r = call_item()\n  File \"/opt/conda/envs/canon/lib/python3.6/site-packages/joblib/externals/loky/process_executor.py\", line 285, in __call__\n    return self.fn(*self.args, **self.kwargs)\n  File \"/opt/conda/envs/canon/lib/python3.6/site-packages/joblib/_parallel_backends.py\", line 595, in __call__\n    return self.func(*args, **kwargs)\n  File \"/opt/conda/envs/canon/lib/python3.6/site-packages/joblib/parallel.py\", line 263, in __call__\n    for func, args, kwargs in self.items]\n  File \"/opt/conda/envs/canon/lib/python3.6/site-packages/joblib/parallel.py\", line 263, in <listcomp>\n    for func, args, kwargs in self.items]\n  File \"<ipython-input-6-bd2f38b423a9>\", line 22, in sc_scores\nAttributeError: 'KMeansModel' object has no attribute 'compute_calinski_harabasz_score'\n\"\"\"",
      "\nThe above exception was the direct cause of the following exception:\n",
      "\u001b[0;31mAttributeError\u001b[0m                            Traceback (most recent call last)",
      "\u001b[0;32m<ipython-input-6-bd2f38b423a9>\u001b[0m in \u001b[0;36m<module>\u001b[0;34m\u001b[0m\n\u001b[1;32m     25\u001b[0m \u001b[0;34m\u001b[0m\u001b[0m\n\u001b[1;32m     26\u001b[0m \u001b[0;32mwith\u001b[0m \u001b[0mParallel\u001b[0m\u001b[0;34m(\u001b[0m\u001b[0mn_jobs\u001b[0m\u001b[0;34m=\u001b[0m\u001b[0;34m-\u001b[0m\u001b[0;36m1\u001b[0m\u001b[0;34m,\u001b[0m \u001b[0mverbose\u001b[0m\u001b[0;34m=\u001b[0m\u001b[0;36m1\u001b[0m\u001b[0;34m)\u001b[0m \u001b[0;32mas\u001b[0m \u001b[0mparallel\u001b[0m\u001b[0;34m:\u001b[0m\u001b[0;34m\u001b[0m\u001b[0;34m\u001b[0m\u001b[0m\n\u001b[0;32m---> 27\u001b[0;31m     \u001b[0mSCs\u001b[0m \u001b[0;34m=\u001b[0m \u001b[0mparallel\u001b[0m\u001b[0;34m(\u001b[0m\u001b[0mdelayed\u001b[0m\u001b[0;34m(\u001b[0m\u001b[0msc_scores\u001b[0m\u001b[0;34m)\u001b[0m\u001b[0;34m(\u001b[0m\u001b[0mk\u001b[0m\u001b[0;34m)\u001b[0m \u001b[0;32mfor\u001b[0m \u001b[0mk\u001b[0m \u001b[0;32min\u001b[0m \u001b[0mKs\u001b[0m\u001b[0;34m)\u001b[0m\u001b[0;34m\u001b[0m\u001b[0;34m\u001b[0m\u001b[0m\n\u001b[0m\u001b[1;32m     28\u001b[0m     \u001b[0mSCs\u001b[0m \u001b[0;34m=\u001b[0m \u001b[0mnp\u001b[0m\u001b[0;34m.\u001b[0m\u001b[0marray\u001b[0m\u001b[0;34m(\u001b[0m\u001b[0mSCs\u001b[0m\u001b[0;34m)\u001b[0m\u001b[0;34m\u001b[0m\u001b[0;34m\u001b[0m\u001b[0m\n",
      "\u001b[0;32m/opt/conda/envs/canon/lib/python3.6/site-packages/joblib/parallel.py\u001b[0m in \u001b[0;36m__call__\u001b[0;34m(self, iterable)\u001b[0m\n\u001b[1;32m   1052\u001b[0m \u001b[0;34m\u001b[0m\u001b[0m\n\u001b[1;32m   1053\u001b[0m             \u001b[0;32mwith\u001b[0m \u001b[0mself\u001b[0m\u001b[0;34m.\u001b[0m\u001b[0m_backend\u001b[0m\u001b[0;34m.\u001b[0m\u001b[0mretrieval_context\u001b[0m\u001b[0;34m(\u001b[0m\u001b[0;34m)\u001b[0m\u001b[0;34m:\u001b[0m\u001b[0;34m\u001b[0m\u001b[0;34m\u001b[0m\u001b[0m\n\u001b[0;32m-> 1054\u001b[0;31m                 \u001b[0mself\u001b[0m\u001b[0;34m.\u001b[0m\u001b[0mretrieve\u001b[0m\u001b[0;34m(\u001b[0m\u001b[0;34m)\u001b[0m\u001b[0;34m\u001b[0m\u001b[0;34m\u001b[0m\u001b[0m\n\u001b[0m\u001b[1;32m   1055\u001b[0m             \u001b[0;31m# Make sure that we get a last message telling us we are done\u001b[0m\u001b[0;34m\u001b[0m\u001b[0;34m\u001b[0m\u001b[0;34m\u001b[0m\u001b[0m\n\u001b[1;32m   1056\u001b[0m             \u001b[0melapsed_time\u001b[0m \u001b[0;34m=\u001b[0m \u001b[0mtime\u001b[0m\u001b[0;34m.\u001b[0m\u001b[0mtime\u001b[0m\u001b[0;34m(\u001b[0m\u001b[0;34m)\u001b[0m \u001b[0;34m-\u001b[0m \u001b[0mself\u001b[0m\u001b[0;34m.\u001b[0m\u001b[0m_start_time\u001b[0m\u001b[0;34m\u001b[0m\u001b[0;34m\u001b[0m\u001b[0m\n",
      "\u001b[0;32m/opt/conda/envs/canon/lib/python3.6/site-packages/joblib/parallel.py\u001b[0m in \u001b[0;36mretrieve\u001b[0;34m(self)\u001b[0m\n\u001b[1;32m    931\u001b[0m             \u001b[0;32mtry\u001b[0m\u001b[0;34m:\u001b[0m\u001b[0;34m\u001b[0m\u001b[0;34m\u001b[0m\u001b[0m\n\u001b[1;32m    932\u001b[0m                 \u001b[0;32mif\u001b[0m \u001b[0mgetattr\u001b[0m\u001b[0;34m(\u001b[0m\u001b[0mself\u001b[0m\u001b[0;34m.\u001b[0m\u001b[0m_backend\u001b[0m\u001b[0;34m,\u001b[0m \u001b[0;34m'supports_timeout'\u001b[0m\u001b[0;34m,\u001b[0m \u001b[0;32mFalse\u001b[0m\u001b[0;34m)\u001b[0m\u001b[0;34m:\u001b[0m\u001b[0;34m\u001b[0m\u001b[0;34m\u001b[0m\u001b[0m\n\u001b[0;32m--> 933\u001b[0;31m                     \u001b[0mself\u001b[0m\u001b[0;34m.\u001b[0m\u001b[0m_output\u001b[0m\u001b[0;34m.\u001b[0m\u001b[0mextend\u001b[0m\u001b[0;34m(\u001b[0m\u001b[0mjob\u001b[0m\u001b[0;34m.\u001b[0m\u001b[0mget\u001b[0m\u001b[0;34m(\u001b[0m\u001b[0mtimeout\u001b[0m\u001b[0;34m=\u001b[0m\u001b[0mself\u001b[0m\u001b[0;34m.\u001b[0m\u001b[0mtimeout\u001b[0m\u001b[0;34m)\u001b[0m\u001b[0;34m)\u001b[0m\u001b[0;34m\u001b[0m\u001b[0;34m\u001b[0m\u001b[0m\n\u001b[0m\u001b[1;32m    934\u001b[0m                 \u001b[0;32melse\u001b[0m\u001b[0;34m:\u001b[0m\u001b[0;34m\u001b[0m\u001b[0;34m\u001b[0m\u001b[0m\n\u001b[1;32m    935\u001b[0m                     \u001b[0mself\u001b[0m\u001b[0;34m.\u001b[0m\u001b[0m_output\u001b[0m\u001b[0;34m.\u001b[0m\u001b[0mextend\u001b[0m\u001b[0;34m(\u001b[0m\u001b[0mjob\u001b[0m\u001b[0;34m.\u001b[0m\u001b[0mget\u001b[0m\u001b[0;34m(\u001b[0m\u001b[0;34m)\u001b[0m\u001b[0;34m)\u001b[0m\u001b[0;34m\u001b[0m\u001b[0;34m\u001b[0m\u001b[0m\n",
      "\u001b[0;32m/opt/conda/envs/canon/lib/python3.6/site-packages/joblib/_parallel_backends.py\u001b[0m in \u001b[0;36mwrap_future_result\u001b[0;34m(future, timeout)\u001b[0m\n\u001b[1;32m    540\u001b[0m         AsyncResults.get from multiprocessing.\"\"\"\n\u001b[1;32m    541\u001b[0m         \u001b[0;32mtry\u001b[0m\u001b[0;34m:\u001b[0m\u001b[0;34m\u001b[0m\u001b[0;34m\u001b[0m\u001b[0m\n\u001b[0;32m--> 542\u001b[0;31m             \u001b[0;32mreturn\u001b[0m \u001b[0mfuture\u001b[0m\u001b[0;34m.\u001b[0m\u001b[0mresult\u001b[0m\u001b[0;34m(\u001b[0m\u001b[0mtimeout\u001b[0m\u001b[0;34m=\u001b[0m\u001b[0mtimeout\u001b[0m\u001b[0;34m)\u001b[0m\u001b[0;34m\u001b[0m\u001b[0;34m\u001b[0m\u001b[0m\n\u001b[0m\u001b[1;32m    543\u001b[0m         \u001b[0;32mexcept\u001b[0m \u001b[0mCfTimeoutError\u001b[0m \u001b[0;32mas\u001b[0m \u001b[0me\u001b[0m\u001b[0;34m:\u001b[0m\u001b[0;34m\u001b[0m\u001b[0;34m\u001b[0m\u001b[0m\n\u001b[1;32m    544\u001b[0m             \u001b[0;32mraise\u001b[0m \u001b[0mTimeoutError\u001b[0m \u001b[0;32mfrom\u001b[0m \u001b[0me\u001b[0m\u001b[0;34m\u001b[0m\u001b[0;34m\u001b[0m\u001b[0m\n",
      "\u001b[0;32m/opt/conda/envs/canon/lib/python3.6/concurrent/futures/_base.py\u001b[0m in \u001b[0;36mresult\u001b[0;34m(self, timeout)\u001b[0m\n\u001b[1;32m    430\u001b[0m                 \u001b[0;32mraise\u001b[0m \u001b[0mCancelledError\u001b[0m\u001b[0;34m(\u001b[0m\u001b[0;34m)\u001b[0m\u001b[0;34m\u001b[0m\u001b[0;34m\u001b[0m\u001b[0m\n\u001b[1;32m    431\u001b[0m             \u001b[0;32melif\u001b[0m \u001b[0mself\u001b[0m\u001b[0;34m.\u001b[0m\u001b[0m_state\u001b[0m \u001b[0;34m==\u001b[0m \u001b[0mFINISHED\u001b[0m\u001b[0;34m:\u001b[0m\u001b[0;34m\u001b[0m\u001b[0;34m\u001b[0m\u001b[0m\n\u001b[0;32m--> 432\u001b[0;31m                 \u001b[0;32mreturn\u001b[0m \u001b[0mself\u001b[0m\u001b[0;34m.\u001b[0m\u001b[0m__get_result\u001b[0m\u001b[0;34m(\u001b[0m\u001b[0;34m)\u001b[0m\u001b[0;34m\u001b[0m\u001b[0;34m\u001b[0m\u001b[0m\n\u001b[0m\u001b[1;32m    433\u001b[0m             \u001b[0;32melse\u001b[0m\u001b[0;34m:\u001b[0m\u001b[0;34m\u001b[0m\u001b[0;34m\u001b[0m\u001b[0m\n\u001b[1;32m    434\u001b[0m                 \u001b[0;32mraise\u001b[0m \u001b[0mTimeoutError\u001b[0m\u001b[0;34m(\u001b[0m\u001b[0;34m)\u001b[0m\u001b[0;34m\u001b[0m\u001b[0;34m\u001b[0m\u001b[0m\n",
      "\u001b[0;32m/opt/conda/envs/canon/lib/python3.6/concurrent/futures/_base.py\u001b[0m in \u001b[0;36m__get_result\u001b[0;34m(self)\u001b[0m\n\u001b[1;32m    382\u001b[0m     \u001b[0;32mdef\u001b[0m \u001b[0m__get_result\u001b[0m\u001b[0;34m(\u001b[0m\u001b[0mself\u001b[0m\u001b[0;34m)\u001b[0m\u001b[0;34m:\u001b[0m\u001b[0;34m\u001b[0m\u001b[0;34m\u001b[0m\u001b[0m\n\u001b[1;32m    383\u001b[0m         \u001b[0;32mif\u001b[0m \u001b[0mself\u001b[0m\u001b[0;34m.\u001b[0m\u001b[0m_exception\u001b[0m\u001b[0;34m:\u001b[0m\u001b[0;34m\u001b[0m\u001b[0;34m\u001b[0m\u001b[0m\n\u001b[0;32m--> 384\u001b[0;31m             \u001b[0;32mraise\u001b[0m \u001b[0mself\u001b[0m\u001b[0;34m.\u001b[0m\u001b[0m_exception\u001b[0m\u001b[0;34m\u001b[0m\u001b[0;34m\u001b[0m\u001b[0m\n\u001b[0m\u001b[1;32m    385\u001b[0m         \u001b[0;32melse\u001b[0m\u001b[0;34m:\u001b[0m\u001b[0;34m\u001b[0m\u001b[0;34m\u001b[0m\u001b[0m\n\u001b[1;32m    386\u001b[0m             \u001b[0;32mreturn\u001b[0m \u001b[0mself\u001b[0m\u001b[0;34m.\u001b[0m\u001b[0m_result\u001b[0m\u001b[0;34m\u001b[0m\u001b[0;34m\u001b[0m\u001b[0m\n",
      "\u001b[0;31mAttributeError\u001b[0m: 'KMeansModel' object has no attribute 'compute_calinski_harabasz_score'"
     ]
    }
   ],
   "source": [
    "from joblib import Parallel, delayed\n",
    "\n",
    "dataset = -1\n",
    "ae_model = ae_models[dataset]\n",
    "samples = features[dataset]\n",
    "\n",
    "Ks = np.arange(2, 20, 1)\n",
    "SCs=[]\n",
    "N = len(samples)\n",
    "\n",
    "def sc_scores(K):\n",
    "    print(\"K=\", K)\n",
    "    model = KMeansModel()\n",
    "    pca = PCA(n_components=32)\n",
    "    if N > 6400:\n",
    "        print(\"To many feature vectors, pick 6400 samples to train clustering\")\n",
    "        training_set = samples[np.random.choice(np.arange(N), 6400)]\n",
    "    else:\n",
    "        training_set = samples\n",
    "    model.train(training_set, n_clusters=K, preprocessors=preprocessors)\n",
    "    silhouette = model.compute_silhouette_score(samples)\n",
    "    calinski = model.compute_calinski_harabasz_score(samples)\n",
    "    print(\"Silhouette Score = {}, Calinski-Harabaz Score = {}\".format(silhouette, calinski))\n",
    "    return silhouette, calinski\n",
    "\n",
    "with Parallel(n_jobs=PARALLELISM, verbose=1) as parallel:\n",
    "    SCs = parallel(delayed(sc_scores)(k) for k in Ks)\n",
    "    SCs = np.array(SCs)"
   ]
  },
  {
   "cell_type": "code",
   "execution_count": 11,
   "metadata": {},
   "outputs": [
    {
     "data": {
      "image/png": "[encoded data removed]",
      "text/plain": [
       "<Figure size 576x288 with 2 Axes>"
      ]
     },
     "metadata": {},
     "output_type": "display_data"
    }
   ],
   "source": [
    "fig, ax = plt.subplots(1, 2, figsize=(8, 4))\n",
    "ax[0].plot(Ks, SCs[:, 0], 'o--k', markerfacecolor='w', markersize=5)\n",
    "ax[0].set_xlabel(r'Number of Clusters', fontsize=12)\n",
    "ax[0].set_ylabel(r'Silhouette Score', fontsize=12)\n",
    "\n",
    "ax[1].plot(Ks, SCs[:, 1], 'o--k', markerfacecolor='w', markersize=5)\n",
    "ax[1].set_xlabel(r'Number of Clusters', fontsize=12)\n",
    "ax[1].set_ylabel(r'Calinski-Harabaz Score', fontsize=12)\n",
    "\n",
    "plt.tight_layout()\n",
    "fig.savefig(\"img/C5_SCH.pdf\", dpi=300)"
   ]
  },
  {
   "cell_type": "markdown",
   "metadata": {},
   "source": [
    "## Combine"
   ]
  },
  {
   "cell_type": "code",
   "execution_count": 16,
   "metadata": {},
   "outputs": [
    {
     "data": {
      "image/png": "[encoded data removed]",
      "text/plain": [
       "<Figure size 576x432 with 7 Axes>"
      ]
     },
     "metadata": {
      "needs_background": "light"
     },
     "output_type": "display_data"
    }
   ],
   "source": [
    "fig, axes = plt.subplots(2, 3, figsize=(8, 6))\n",
    "\n",
    "for ax in axes.flatten():\n",
    "    ax.axis('off')\n",
    "    \n",
    "ax = axes[0, 0]\n",
    "img = ax.imshow(img_seq, cmap='jet', vmin=vmin, vmax=vmax, aspect=aspect_ratio)\n",
    "ax.text(0.02, 0.9, '(a)', transform=ax.transAxes, fontsize=12, color='w')\n",
    "\n",
    "ax = axes[0, 1]\n",
    "ax.imshow(img_dc, aspect=aspect_ratio)\n",
    "ax.text(0.02, 0.9, '(b)', transform=ax.transAxes, fontsize=12, color='w')\n",
    "\n",
    "ax = axes[0, 2]\n",
    "ax.imshow(img_k3, aspect=aspect_ratio)\n",
    "ax.text(0.02, 0.9, '(c)', transform=ax.transAxes, fontsize=12, color='k')\n",
    "\n",
    "ax = axes[1, 0]\n",
    "ax.imshow(img_k16, aspect=aspect_ratio)\n",
    "ax.text(0.02, 0.9, '(d)', transform=ax.transAxes, fontsize=12, color='w')\n",
    "\n",
    "ax = axes[1, 1]\n",
    "ax.imshow(img_seq_k3, cmap='jet', vmin=vmin, vmax=vmax, aspect=aspect_ratio)\n",
    "ax.text(0.02, 0.9, '(e)', transform=ax.transAxes, fontsize=12, color='w')\n",
    "\n",
    "ax = axes[1, 2]\n",
    "ax.imshow(img_seq_k16, cmap='jet', vmin=vmin, vmax=vmax, aspect=aspect_ratio)\n",
    "ax.text(0.02, 0.9, '(f)', transform=ax.transAxes, fontsize=12, color='w')\n",
    "\n",
    "fig.subplots_adjust(bottom=0, top=0.9, left=0, right=0.93, wspace=0.02, hspace=0.01)\n",
    "cb_ax = fig.add_axes([0.94, 0.03, 0.01, 0.85])\n",
    "cbar = fig.colorbar(img, cax=cb_ax)\n",
    "\n",
    "fig.savefig(\"img/C5.pdf\", dpi=300)"
   ]
  },
  {
   "cell_type": "code",
   "execution_count": null,
   "metadata": {},
   "outputs": [],
   "source": []
  }
 ],
 "metadata": {
  "kernelspec": {
   "display_name": "venv",
   "language": "python",
   "name": "python3"
  },
  "language_info": {
   "codemirror_mode": {
    "name": "ipython",
    "version": 3
   },
   "file_extension": ".py",
   "mimetype": "text/x-python",
   "name": "python",
   "nbconvert_exporter": "python",
   "pygments_lexer": "ipython3",
   "version": "3.10.17"
  }
 },
 "nbformat": 4,
 "nbformat_minor": 4
}
